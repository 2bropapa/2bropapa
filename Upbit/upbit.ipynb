{
 "cells": [
  {
   "cell_type": "code",
   "execution_count": 2,
   "metadata": {},
   "outputs": [
    {
     "name": "stdout",
     "output_type": "stream",
     "text": [
      "['KRW-BTC', 'KRW-ETH', 'BTC-ETH', 'BTC-XRP', 'BTC-ETC', 'BTC-CVC', 'BTC-DGB', 'BTC-SC', 'BTC-SNT', 'BTC-WAVES', 'BTC-NMR', 'BTC-XEM', 'BTC-QTUM', 'BTC-BAT', 'BTC-LSK', 'BTC-STEEM', 'BTC-DOGE', 'BTC-BNT', 'BTC-XLM', 'BTC-ARDR', 'BTC-ARK', 'BTC-STORJ', 'BTC-GRS', 'BTC-RLC', 'USDT-BTC', 'USDT-ETH', 'USDT-XRP', 'USDT-ETC', 'KRW-NEO', 'KRW-MTL', 'KRW-XRP', 'KRW-ETC', 'KRW-SNT', 'KRW-WAVES', 'KRW-XEM', 'KRW-QTUM', 'KRW-LSK', 'KRW-STEEM', 'KRW-XLM', 'KRW-ARDR', 'KRW-ARK', 'KRW-STORJ', 'KRW-GRS', 'KRW-ADA', 'BTC-ADA', 'BTC-MANA', 'KRW-SBD', 'BTC-SBD', 'KRW-POWR', 'BTC-POWR', 'KRW-BTG', 'USDT-ADA', 'BTC-DNT', 'BTC-ZRX', 'BTC-TRX', 'BTC-TUSD', 'BTC-LRC', 'KRW-ICX', 'KRW-EOS', 'USDT-TUSD', 'KRW-TRX', 'BTC-POLYX', 'USDT-SC', 'USDT-TRX', 'KRW-SC', 'KRW-ONT', 'KRW-ZIL', 'KRW-POLYX', 'KRW-ZRX', 'KRW-LOOM', 'BTC-BCH', 'USDT-BCH', 'KRW-BCH', 'BTC-HIFI', 'BTC-LOOM', 'KRW-BAT', 'KRW-IOST', 'USDT-DGB', 'KRW-CVC', 'KRW-IQ', 'KRW-IOTA', 'BTC-RVN', 'BTC-GO', 'BTC-BOUNTY', 'BTC-ENJ', 'KRW-HIFI', 'KRW-ONG', 'KRW-GAS', 'BTC-MTL', 'KRW-BOUNTY', 'KRW-ELF', 'USDT-DOGE', 'USDT-ZRX', 'USDT-RVN', 'USDT-BAT', 'KRW-KNC', 'BTC-MOC', 'BTC-ZIL', 'KRW-BSV', 'BTC-BSV', 'BTC-IOST', 'KRW-THETA', 'BTC-DENT', 'KRW-QKC', 'BTC-ELF', 'KRW-BTT', 'BTC-IOTX', 'BTC-SOLVE', 'BTC-NKN', 'BTC-META', 'KRW-MOC', 'BTC-ANKR', 'BTC-CRO', 'KRW-TFUEL', 'KRW-MANA', 'KRW-ANKR', 'BTC-ORBS', 'BTC-AERGO', 'KRW-AERGO', 'KRW-ATOM', 'KRW-TT', 'KRW-GAME2', 'BTC-ATOM', 'BTC-STPT', 'KRW-MBL', 'BTC-EOS', 'BTC-USDS', 'BTC-SKY', 'BTC-BORA', 'KRW-WAXP', 'BTC-WAXP', 'KRW-HBAR', 'KRW-MED', 'BTC-MED', 'BTC-MLK', 'KRW-MLK', 'KRW-STPT', 'BTC-VET', 'KRW-ORBS', 'BTC-CHZ', 'KRW-VET', 'BTC-FX', 'BTC-OGN', 'KRW-CHZ', 'BTC-XTZ', 'BTC-HIVE', 'BTC-HBD', 'BTC-OBSR', 'BTC-DKA', 'KRW-STMX', 'BTC-STMX', 'BTC-AHT', 'KRW-DKA', 'BTC-LINK', 'KRW-HIVE', 'KRW-KAVA', 'BTC-KAVA', 'KRW-AHT', 'KRW-LINK', 'KRW-XTZ', 'KRW-BORA', 'BTC-JST', 'BTC-CHR', 'BTC-DAD', 'BTC-TOKAMAK', 'KRW-JST', 'BTC-CTSI', 'BTC-DOT', 'KRW-CRO', 'BTC-COMP', 'BTC-SXP', 'BTC-HUNT', 'KRW-TOKAMAK', 'BTC-LWA', 'BTC-CRV', 'BTC-ALGO', 'BTC-RSR', 'KRW-SXP', 'BTC-OXT', 'KRW-HUNT', 'BTC-SAND', 'BTC-SUN', 'KRW-DOT', 'BTC-QTCON', 'BTC-MVL', 'KRW-MVL', 'BTC-REI', 'BTC-AQT', 'BTC-AXS', 'BTC-STRAX', 'KRW-STRAX', 'KRW-AQT', 'BTC-GLM', 'KRW-GLM', 'BTC-FCT2', 'KRW-META', 'KRW-FCT2', 'BTC-FIL', 'BTC-UNI', 'BTC-INJ', 'BTC-PROM', 'BTC-VAL', 'BTC-PSG', 'BTC-JUV', 'BTC-CBK', 'KRW-CBK', 'BTC-BFC', 'BTC-HPO', 'BTC-CELO', 'KRW-SAND', 'KRW-HPO', 'BTC-IQ', 'BTC-STX', 'KRW-DOGE', 'BTC-NEAR', 'BTC-AUCTION', 'BTC-FLOW', 'BTC-STRIKE', 'KRW-STRIKE', 'BTC-PUNDIX', 'KRW-PUNDIX', 'KRW-FLOW', 'KRW-AXS', 'KRW-STX', 'BTC-GRT', 'BTC-SNX', 'BTC-USDP', 'KRW-XEC', 'KRW-SOL', 'BTC-SOL', 'KRW-POL', 'BTC-POL', 'KRW-AAVE', 'KRW-1INCH', 'BTC-AAVE', 'BTC-1INCH', 'BTC-MASK', 'KRW-ALGO', 'BTC-AUDIO', 'KRW-NEAR', 'BTC-YGG', 'BTC-GTC', 'BTC-OCEAN', 'BTC-CTC', 'BTC-LPT', 'KRW-AVAX', 'BTC-AVAX', 'BTC-IMX', 'BTC-RENDER', 'BTC-RLY', 'KRW-T', 'BTC-T', 'KRW-CELO', 'BTC-RAD', 'BTC-AGLD', 'BTC-API3', 'BTC-ARPA', 'BTC-ENS', 'KRW-GMT', 'BTC-GMT', 'BTC-APE', 'BTC-RAY', 'KRW-APT', 'BTC-APT', 'BTC-ACM', 'BTC-AFC', 'BTC-ATM', 'BTC-BAR', 'BTC-CITY', 'BTC-INTER', 'BTC-NAP', 'KRW-SHIB', 'BTC-G', 'BTC-ASTR', 'BTC-BLUR', 'KRW-MASK', 'BTC-ACS', 'BTC-MAGIC', 'KRW-ARB', 'BTC-ARB', 'KRW-EGLD', 'BTC-EGLD', 'KRW-SUI', 'BTC-SUI', 'KRW-GRT', 'KRW-BLUR', 'BTC-MINA', 'KRW-IMX', 'BTC-STG', 'BTC-SEI', 'KRW-SEI', 'BTC-CYBER', 'BTC-GLMR', 'KRW-MINA', 'BTC-ID', 'BTC-AXL', 'KRW-CTC', 'KRW-ASTR', 'BTC-SPURS', 'KRW-ID', 'KRW-PYTH', 'BTC-PYTH', 'BTC-ALT', 'BTC-POKT', 'USDT-POKT', 'KRW-MNT', 'BTC-MNT', 'USDT-MNT', 'BTC-BIGTIME', 'USDT-BIGTIME', 'KRW-AKT', 'BTC-AKT', 'USDT-AKT', 'KRW-ZETA', 'BTC-ZETA', 'USDT-ZETA', 'BTC-OMNI', 'USDT-OMNI', 'BTC-OAS', 'USDT-OAS', 'KRW-AUCTION', 'KRW-STG', 'KRW-BEAM', 'BTC-BEAM', 'USDT-BEAM', 'KRW-TAIKO', 'BTC-TAIKO', 'USDT-TAIKO', 'KRW-USDT', 'BTC-USDT', 'KRW-ONDO', 'BTC-ONDO', 'USDT-ONDO', 'BTC-NEO', 'USDT-NEO', 'BTC-GAS', 'USDT-GAS', 'BTC-TT', 'BTC-GAME2', 'USDT-SOL', 'KRW-ZRO', 'BTC-ZRO', 'USDT-ZRO', 'KRW-BLAST', 'BTC-BLAST', 'USDT-BLAST', 'KRW-JUP', 'BTC-JUP', 'USDT-JUP', 'KRW-ENS', 'KRW-G', 'KRW-PENDLE', 'BTC-PENDLE', 'KRW-ATH', 'BTC-ATH', 'USDT-BRETT', 'USDT-PEPE', 'KRW-USDC', 'BTC-USDC', 'USDT-USDC', 'KRW-UXLINK', 'BTC-UXLINK', 'USDT-UXLINK', 'KRW-BIGTIME', 'KRW-CKB', 'BTC-CKB', 'USDT-CKB', 'BTC-MEW', 'USDT-MEW', 'KRW-W', 'BTC-W', 'USDT-W', 'KRW-CARV', 'BTC-CARV', 'USDT-CARV', 'KRW-INJ', 'USDT-INJ', 'KRW-MEW', 'USDT-BONK', 'KRW-UNI', 'USDT-UNI', 'KRW-SAFE', 'BTC-SAFE', 'USDT-SAFE', 'KRW-DRIFT', 'BTC-DRIFT', 'USDT-DRIFT', 'KRW-AGLD', 'USDT-AGLD', 'USDT-AHT', 'USDT-ARPA', 'USDT-ASTR', 'USDT-BNT', 'USDT-EGLD', 'USDT-FIL', 'USDT-LWA', 'USDT-NEAR', 'USDT-OXT', 'USDT-RAD', 'USDT-XLM', 'KRW-PEPE', 'KRW-BONK', 'BTC-JASMY', 'USDT-JASMY', 'BTC-NCT', 'USDT-NCT', 'KRW-RENDER', 'USDT-RENDER', 'BTC-PUFFER', 'USDT-PUFFER', 'BTC-SWELL', 'USDT-SWELL', 'KRW-MOVE', 'BTC-MOVE', 'USDT-MOVE', 'KRW-ME', 'BTC-ME', 'USDT-ME', 'KRW-MOCA', 'BTC-MOCA', 'USDT-MOCA', 'KRW-VANA', 'BTC-VANA', 'USDT-VANA', 'KRW-SONIC', 'BTC-SONIC', 'USDT-SONIC']\n",
      "['KRW-BTC', 'KRW-ETH', 'KRW-NEO', 'KRW-MTL', 'KRW-XRP', 'KRW-ETC', 'KRW-SNT', 'KRW-WAVES', 'KRW-XEM', 'KRW-QTUM', 'KRW-LSK', 'KRW-STEEM', 'KRW-XLM', 'KRW-ARDR', 'KRW-ARK', 'KRW-STORJ', 'KRW-GRS', 'KRW-ADA', 'KRW-SBD', 'KRW-POWR', 'KRW-BTG', 'KRW-ICX', 'KRW-EOS', 'KRW-TRX', 'KRW-SC', 'KRW-ONT', 'KRW-ZIL', 'KRW-POLYX', 'KRW-ZRX', 'KRW-LOOM', 'KRW-BCH', 'KRW-BAT', 'KRW-IOST', 'KRW-CVC', 'KRW-IQ', 'KRW-IOTA', 'KRW-HIFI', 'KRW-ONG', 'KRW-GAS', 'KRW-BOUNTY', 'KRW-ELF', 'KRW-KNC', 'KRW-BSV', 'KRW-THETA', 'KRW-QKC', 'KRW-BTT', 'KRW-MOC', 'KRW-TFUEL', 'KRW-MANA', 'KRW-ANKR', 'KRW-AERGO', 'KRW-ATOM', 'KRW-TT', 'KRW-GAME2', 'KRW-MBL', 'KRW-WAXP', 'KRW-HBAR', 'KRW-MED', 'KRW-MLK', 'KRW-STPT', 'KRW-ORBS', 'KRW-VET', 'KRW-CHZ', 'KRW-STMX', 'KRW-DKA', 'KRW-HIVE', 'KRW-KAVA', 'KRW-AHT', 'KRW-LINK', 'KRW-XTZ', 'KRW-BORA', 'KRW-JST', 'KRW-CRO', 'KRW-TOKAMAK', 'KRW-SXP', 'KRW-HUNT', 'KRW-DOT', 'KRW-MVL', 'KRW-STRAX', 'KRW-AQT', 'KRW-GLM', 'KRW-META', 'KRW-FCT2', 'KRW-CBK', 'KRW-SAND', 'KRW-HPO', 'KRW-DOGE', 'KRW-STRIKE', 'KRW-PUNDIX', 'KRW-FLOW', 'KRW-AXS', 'KRW-STX', 'KRW-XEC', 'KRW-SOL', 'KRW-POL', 'KRW-AAVE', 'KRW-1INCH', 'KRW-ALGO', 'KRW-NEAR', 'KRW-AVAX', 'KRW-T', 'KRW-CELO', 'KRW-GMT', 'KRW-APT', 'KRW-SHIB', 'KRW-MASK', 'KRW-ARB', 'KRW-EGLD', 'KRW-SUI', 'KRW-GRT', 'KRW-BLUR', 'KRW-IMX', 'KRW-SEI', 'KRW-MINA', 'KRW-CTC', 'KRW-ASTR', 'KRW-ID', 'KRW-PYTH', 'KRW-MNT', 'KRW-AKT', 'KRW-ZETA', 'KRW-AUCTION', 'KRW-STG', 'KRW-BEAM', 'KRW-TAIKO', 'KRW-USDT', 'KRW-ONDO', 'KRW-ZRO', 'KRW-BLAST', 'KRW-JUP', 'KRW-ENS', 'KRW-G', 'KRW-PENDLE', 'KRW-ATH', 'KRW-USDC', 'KRW-UXLINK', 'KRW-BIGTIME', 'KRW-CKB', 'KRW-W', 'KRW-CARV', 'KRW-INJ', 'KRW-MEW', 'KRW-UNI', 'KRW-SAFE', 'KRW-DRIFT', 'KRW-AGLD', 'KRW-PEPE', 'KRW-BONK', 'KRW-RENDER', 'KRW-MOVE', 'KRW-ME', 'KRW-MOCA', 'KRW-VANA', 'KRW-SONIC']\n"
     ]
    }
   ],
   "source": [
    "import pyupbit\n",
    "print(pyupbit.get_tickers())\n",
    "print(pyupbit.get_tickers(fiat=\"KRW\"))"
   ]
  },
  {
   "cell_type": "code",
   "execution_count": 3,
   "metadata": {},
   "outputs": [
    {
     "name": "stdout",
     "output_type": "stream",
     "text": [
      "159690000.0\n"
     ]
    }
   ],
   "source": [
    "print(pyupbit.get_current_price(\"KRW-BTC\"))"
   ]
  },
  {
   "cell_type": "code",
   "execution_count": 4,
   "metadata": {},
   "outputs": [
    {
     "name": "stdout",
     "output_type": "stream",
     "text": [
      "{'KRW-BTC': 159691000.0, 'KRW-XRP': 4690.0}\n"
     ]
    }
   ],
   "source": [
    "print(pyupbit.get_current_price([\"KRW-BTC\", \"KRW-XRP\"]))"
   ]
  },
  {
   "cell_type": "code",
   "execution_count": 5,
   "metadata": {},
   "outputs": [
    {
     "name": "stdout",
     "output_type": "stream",
     "text": [
      "                            open         high          low        close  \\\n",
      "2025-01-15 09:00:00  143546000.0  147724000.0  142997000.0  147309000.0   \n",
      "2025-01-16 09:00:00  147309000.0  147804000.0  144102000.0  146670000.0   \n",
      "2025-01-17 09:00:00  146750000.0  155509000.0  146661000.0  152345000.0   \n",
      "2025-01-18 09:00:00  152434000.0  156530000.0  151533000.0  155801000.0   \n",
      "2025-01-19 09:00:00  155720000.0  159999000.0  155000000.0  159610000.0   \n",
      "\n",
      "                          volume         value  \n",
      "2025-01-15 09:00:00  3708.088650  5.393044e+11  \n",
      "2025-01-16 09:00:00  3192.450194  4.665994e+11  \n",
      "2025-01-17 09:00:00  4834.721595  7.319772e+11  \n",
      "2025-01-18 09:00:00  3748.129897  5.778268e+11  \n",
      "2025-01-19 09:00:00  3116.138312  4.913393e+11  \n"
     ]
    }
   ],
   "source": [
    "df = pyupbit.get_ohlcv(\"KRW-BTC\")\n",
    "print(df.tail())"
   ]
  },
  {
   "cell_type": "code",
   "execution_count": 9,
   "metadata": {},
   "outputs": [
    {
     "name": "stdout",
     "output_type": "stream",
     "text": [
      "                            open         high          low        close  \\\n",
      "2025-01-19 17:30:00  158050000.0  158187000.0  158029000.0  158186000.0   \n",
      "2025-01-19 17:31:00  158186000.0  158260000.0  158162000.0  158254000.0   \n",
      "2025-01-19 17:32:00  158259000.0  158399000.0  158253000.0  158378000.0   \n",
      "2025-01-19 17:33:00  158399000.0  158409000.0  158378000.0  158406000.0   \n",
      "2025-01-19 17:34:00  158406000.0  158406000.0  158402000.0  158405000.0   \n",
      "...                          ...          ...          ...          ...   \n",
      "2025-01-19 20:45:00  159600000.0  159709000.0  159555000.0  159599000.0   \n",
      "2025-01-19 20:46:00  159597000.0  159706000.0  159597000.0  159691000.0   \n",
      "2025-01-19 20:47:00  159687000.0  159691000.0  159599000.0  159626000.0   \n",
      "2025-01-19 20:48:00  159645000.0  159646000.0  159599000.0  159626000.0   \n",
      "2025-01-19 20:49:00  159626000.0  159644000.0  159600000.0  159625000.0   \n",
      "\n",
      "                       volume         value  \n",
      "2025-01-19 17:30:00  5.236135  8.280270e+08  \n",
      "2025-01-19 17:31:00  4.665205  7.381388e+08  \n",
      "2025-01-19 17:32:00  4.379122  6.931729e+08  \n",
      "2025-01-19 17:33:00  4.656275  7.375575e+08  \n",
      "2025-01-19 17:34:00  3.138207  4.971050e+08  \n",
      "...                       ...           ...  \n",
      "2025-01-19 20:45:00  3.665740  5.851187e+08  \n",
      "2025-01-19 20:46:00  8.989594  1.435243e+09  \n",
      "2025-01-19 20:47:00  4.455047  7.112120e+08  \n",
      "2025-01-19 20:48:00  4.016654  6.411469e+08  \n",
      "2025-01-19 20:49:00  0.437341  6.980507e+07  \n",
      "\n",
      "[200 rows x 6 columns]\n"
     ]
    }
   ],
   "source": [
    "print(pyupbit.get_ohlcv(\"KRW-BTC\", interval=\"minute1\")) "
   ]
  },
  {
   "cell_type": "code",
   "execution_count": 16,
   "metadata": {},
   "outputs": [
    {
     "name": "stdout",
     "output_type": "stream",
     "text": [
      "                          open       high        low      close    volume  \\\n",
      "2017-10-10 04:03:00  5535000.0  5535000.0  5535000.0  5535000.0  0.003475   \n",
      "2017-10-10 04:04:00  5590000.0  5590000.0  5590000.0  5590000.0  0.003585   \n",
      "2017-10-10 04:06:00  5551000.0  5564000.0  5551000.0  5564000.0  0.005735   \n",
      "2017-10-10 04:08:00  5572000.0  5572000.0  5572000.0  5572000.0  0.001822   \n",
      "2017-10-10 04:09:00  5578000.0  5582000.0  5578000.0  5582000.0  0.002354   \n",
      "...                        ...        ...        ...        ...       ...   \n",
      "2017-10-10 08:52:00  5537000.0  5537000.0  5537000.0  5537000.0  0.001097   \n",
      "2017-10-10 08:54:00  5480000.0  5480000.0  5480000.0  5480000.0  0.004342   \n",
      "2017-10-10 08:57:00  5470000.0  5470000.0  5470000.0  5470000.0  0.004332   \n",
      "2017-10-10 08:58:00  5477000.0  5477000.0  5477000.0  5477000.0  0.001801   \n",
      "2017-10-10 08:59:00  5477000.0  5477000.0  5477000.0  5477000.0  0.001157   \n",
      "\n",
      "                         value  \n",
      "2017-10-10 04:03:00  19234.125  \n",
      "2017-10-10 04:04:00  20040.150  \n",
      "2017-10-10 04:06:00  31891.665  \n",
      "2017-10-10 04:08:00  10152.184  \n",
      "2017-10-10 04:09:00  13136.500  \n",
      "...                        ...  \n",
      "2017-10-10 08:52:00   6074.089  \n",
      "2017-10-10 08:54:00  23794.160  \n",
      "2017-10-10 08:57:00  23696.040  \n",
      "2017-10-10 08:58:00   9864.077  \n",
      "2017-10-10 08:59:00   6336.889  \n",
      "\n",
      "[200 rows x 6 columns]\n"
     ]
    }
   ],
   "source": [
    "print(pyupbit.get_ohlcv(\"KRW-BTC\", interval=\"minute1\", to=\"20171010\"))"
   ]
  },
  {
   "cell_type": "code",
   "execution_count": 8,
   "metadata": {},
   "outputs": [
    {
     "data": {
      "text/html": [
       "<div>\n",
       "<style scoped>\n",
       "    .dataframe tbody tr th:only-of-type {\n",
       "        vertical-align: middle;\n",
       "    }\n",
       "\n",
       "    .dataframe tbody tr th {\n",
       "        vertical-align: top;\n",
       "    }\n",
       "\n",
       "    .dataframe thead th {\n",
       "        text-align: right;\n",
       "    }\n",
       "</style>\n",
       "<table border=\"1\" class=\"dataframe\">\n",
       "  <thead>\n",
       "    <tr style=\"text-align: right;\">\n",
       "      <th></th>\n",
       "      <th>open</th>\n",
       "      <th>high</th>\n",
       "      <th>low</th>\n",
       "      <th>close</th>\n",
       "      <th>volume</th>\n",
       "      <th>value</th>\n",
       "    </tr>\n",
       "  </thead>\n",
       "  <tbody>\n",
       "    <tr>\n",
       "      <th>2023-05-31 09:00:00</th>\n",
       "      <td>36923000.0</td>\n",
       "      <td>37043000.0</td>\n",
       "      <td>36059000.0</td>\n",
       "      <td>36391000.0</td>\n",
       "      <td>3833.617703</td>\n",
       "      <td>1.395994e+11</td>\n",
       "    </tr>\n",
       "    <tr>\n",
       "      <th>2023-06-01 09:00:00</th>\n",
       "      <td>36391000.0</td>\n",
       "      <td>36509000.0</td>\n",
       "      <td>35715000.0</td>\n",
       "      <td>35823000.0</td>\n",
       "      <td>3403.840081</td>\n",
       "      <td>1.225855e+11</td>\n",
       "    </tr>\n",
       "    <tr>\n",
       "      <th>2023-06-02 09:00:00</th>\n",
       "      <td>35823000.0</td>\n",
       "      <td>36150000.0</td>\n",
       "      <td>35470000.0</td>\n",
       "      <td>36089000.0</td>\n",
       "      <td>3129.382447</td>\n",
       "      <td>1.123631e+11</td>\n",
       "    </tr>\n",
       "    <tr>\n",
       "      <th>2023-06-03 09:00:00</th>\n",
       "      <td>36089000.0</td>\n",
       "      <td>36102000.0</td>\n",
       "      <td>35801000.0</td>\n",
       "      <td>35888000.0</td>\n",
       "      <td>1925.565561</td>\n",
       "      <td>6.922122e+10</td>\n",
       "    </tr>\n",
       "    <tr>\n",
       "      <th>2023-06-04 09:00:00</th>\n",
       "      <td>35888000.0</td>\n",
       "      <td>36146000.0</td>\n",
       "      <td>35820000.0</td>\n",
       "      <td>35865000.0</td>\n",
       "      <td>1679.790548</td>\n",
       "      <td>6.034128e+10</td>\n",
       "    </tr>\n",
       "    <tr>\n",
       "      <th>...</th>\n",
       "      <td>...</td>\n",
       "      <td>...</td>\n",
       "      <td>...</td>\n",
       "      <td>...</td>\n",
       "      <td>...</td>\n",
       "      <td>...</td>\n",
       "    </tr>\n",
       "    <tr>\n",
       "      <th>2025-01-15 09:00:00</th>\n",
       "      <td>143546000.0</td>\n",
       "      <td>147724000.0</td>\n",
       "      <td>142997000.0</td>\n",
       "      <td>147309000.0</td>\n",
       "      <td>3708.088650</td>\n",
       "      <td>5.393044e+11</td>\n",
       "    </tr>\n",
       "    <tr>\n",
       "      <th>2025-01-16 09:00:00</th>\n",
       "      <td>147309000.0</td>\n",
       "      <td>147804000.0</td>\n",
       "      <td>144102000.0</td>\n",
       "      <td>146670000.0</td>\n",
       "      <td>3192.450194</td>\n",
       "      <td>4.665994e+11</td>\n",
       "    </tr>\n",
       "    <tr>\n",
       "      <th>2025-01-17 09:00:00</th>\n",
       "      <td>146750000.0</td>\n",
       "      <td>155509000.0</td>\n",
       "      <td>146661000.0</td>\n",
       "      <td>152345000.0</td>\n",
       "      <td>4834.721595</td>\n",
       "      <td>7.319772e+11</td>\n",
       "    </tr>\n",
       "    <tr>\n",
       "      <th>2025-01-18 09:00:00</th>\n",
       "      <td>152434000.0</td>\n",
       "      <td>156530000.0</td>\n",
       "      <td>151533000.0</td>\n",
       "      <td>155801000.0</td>\n",
       "      <td>3748.129897</td>\n",
       "      <td>5.778268e+11</td>\n",
       "    </tr>\n",
       "    <tr>\n",
       "      <th>2025-01-19 09:00:00</th>\n",
       "      <td>155720000.0</td>\n",
       "      <td>159999000.0</td>\n",
       "      <td>155000000.0</td>\n",
       "      <td>159600000.0</td>\n",
       "      <td>3120.365054</td>\n",
       "      <td>4.920140e+11</td>\n",
       "    </tr>\n",
       "  </tbody>\n",
       "</table>\n",
       "<p>600 rows × 6 columns</p>\n",
       "</div>"
      ],
      "text/plain": [
       "                            open         high          low        close  \\\n",
       "2023-05-31 09:00:00   36923000.0   37043000.0   36059000.0   36391000.0   \n",
       "2023-06-01 09:00:00   36391000.0   36509000.0   35715000.0   35823000.0   \n",
       "2023-06-02 09:00:00   35823000.0   36150000.0   35470000.0   36089000.0   \n",
       "2023-06-03 09:00:00   36089000.0   36102000.0   35801000.0   35888000.0   \n",
       "2023-06-04 09:00:00   35888000.0   36146000.0   35820000.0   35865000.0   \n",
       "...                          ...          ...          ...          ...   \n",
       "2025-01-15 09:00:00  143546000.0  147724000.0  142997000.0  147309000.0   \n",
       "2025-01-16 09:00:00  147309000.0  147804000.0  144102000.0  146670000.0   \n",
       "2025-01-17 09:00:00  146750000.0  155509000.0  146661000.0  152345000.0   \n",
       "2025-01-18 09:00:00  152434000.0  156530000.0  151533000.0  155801000.0   \n",
       "2025-01-19 09:00:00  155720000.0  159999000.0  155000000.0  159600000.0   \n",
       "\n",
       "                          volume         value  \n",
       "2023-05-31 09:00:00  3833.617703  1.395994e+11  \n",
       "2023-06-01 09:00:00  3403.840081  1.225855e+11  \n",
       "2023-06-02 09:00:00  3129.382447  1.123631e+11  \n",
       "2023-06-03 09:00:00  1925.565561  6.922122e+10  \n",
       "2023-06-04 09:00:00  1679.790548  6.034128e+10  \n",
       "...                          ...           ...  \n",
       "2025-01-15 09:00:00  3708.088650  5.393044e+11  \n",
       "2025-01-16 09:00:00  3192.450194  4.665994e+11  \n",
       "2025-01-17 09:00:00  4834.721595  7.319772e+11  \n",
       "2025-01-18 09:00:00  3748.129897  5.778268e+11  \n",
       "2025-01-19 09:00:00  3120.365054  4.920140e+11  \n",
       "\n",
       "[600 rows x 6 columns]"
      ]
     },
     "execution_count": 8,
     "metadata": {},
     "output_type": "execute_result"
    }
   ],
   "source": [
    "df"
   ]
  },
  {
   "cell_type": "code",
   "execution_count": null,
   "metadata": {},
   "outputs": [],
   "source": []
  }
 ],
 "metadata": {
  "kernelspec": {
   "display_name": "Python 3",
   "language": "python",
   "name": "python3"
  },
  "language_info": {
   "codemirror_mode": {
    "name": "ipython",
    "version": 3
   },
   "file_extension": ".py",
   "mimetype": "text/x-python",
   "name": "python",
   "nbconvert_exporter": "python",
   "pygments_lexer": "ipython3",
   "version": "3.12.2"
  }
 },
 "nbformat": 4,
 "nbformat_minor": 2
}
